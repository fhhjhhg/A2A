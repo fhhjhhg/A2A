{
  "nbformat": 4,
  "nbformat_minor": 0,
  "metadata": {
    "colab": {
      "machine_shape": "hm",
      "gpuType": "T4",
      "provenance": [],
      "include_colab_link": true
    },
    "accelerator": "GPU",
    "kaggle": {
      "accelerator": "gpu"
    },
    "language_info": {
      "name": "python"
    },
    "kernelspec": {
      "name": "python3",
      "display_name": "Python 3"
    },
    "widgets": {
      "application/vnd.jupyter.widget-state+json": {
        "e58841d67b9a4746b764785d2a62539f": {
          "model_module": "@jupyter-widgets/controls",
          "model_name": "GridBoxModel",
          "model_module_version": "1.5.0",
          "state": {
            "_dom_classes": [],
            "_model_module": "@jupyter-widgets/controls",
            "_model_module_version": "1.5.0",
            "_model_name": "GridBoxModel",
            "_view_count": null,
            "_view_module": "@jupyter-widgets/controls",
            "_view_module_version": "1.5.0",
            "_view_name": "GridBoxView",
            "box_style": "",
            "children": [
              "IPY_MODEL_391b868c64a94d8991cfa7e56ec876ea",
              "IPY_MODEL_bd7e8efbd94943db837a9032f777d30b",
              "IPY_MODEL_54306a1e137c4d648f5432e7d74cae58",
              "IPY_MODEL_a2cdea8f545d40a3aa66d69fb99199c9"
            ],
            "layout": "IPY_MODEL_63c71f79bc514179ab7dbcb1e6fd9a30"
          }
        },
        "391b868c64a94d8991cfa7e56ec876ea": {
          "model_module": "@jupyter-widgets/controls",
          "model_name": "DropdownModel",
          "model_module_version": "1.5.0",
          "state": {
            "_dom_classes": [],
            "_model_module": "@jupyter-widgets/controls",
            "_model_module_version": "1.5.0",
            "_model_name": "DropdownModel",
            "_options_labels": [
              "google/gemini-2.5-flash",
              "google/gemini-2.5-flash-lite"
            ],
            "_view_count": null,
            "_view_module": "@jupyter-widgets/controls",
            "_view_module_version": "1.5.0",
            "_view_name": "DropdownView",
            "description": "",
            "description_tooltip": null,
            "disabled": false,
            "index": 0,
            "layout": "IPY_MODEL_73bfd03ef45d4851873c78ae60ff4516",
            "style": "IPY_MODEL_6acabb6dd1d0406db75c3ece800eea4b"
          }
        },
        "bd7e8efbd94943db837a9032f777d30b": {
          "model_module": "@jupyter-widgets/controls",
          "model_name": "TextareaModel",
          "model_module_version": "1.5.0",
          "state": {
            "_dom_classes": [],
            "_model_module": "@jupyter-widgets/controls",
            "_model_module_version": "1.5.0",
            "_model_name": "TextareaModel",
            "_view_count": null,
            "_view_module": "@jupyter-widgets/controls",
            "_view_module_version": "1.5.0",
            "_view_name": "TextareaView",
            "continuous_update": true,
            "description": "",
            "description_tooltip": null,
            "disabled": false,
            "layout": "IPY_MODEL_011582fba47c45519f681d055ad1d016",
            "placeholder": "Ask me anything....",
            "rows": null,
            "style": "IPY_MODEL_338c94f088a949b599226136de36efba",
            "value": ""
          }
        },
        "54306a1e137c4d648f5432e7d74cae58": {
          "model_module": "@jupyter-widgets/controls",
          "model_name": "ButtonModel",
          "model_module_version": "1.5.0",
          "state": {
            "_dom_classes": [],
            "_model_module": "@jupyter-widgets/controls",
            "_model_module_version": "1.5.0",
            "_model_name": "ButtonModel",
            "_view_count": null,
            "_view_module": "@jupyter-widgets/controls",
            "_view_module_version": "1.5.0",
            "_view_name": "ButtonView",
            "button_style": "",
            "description": "Submit Text",
            "disabled": false,
            "icon": "check",
            "layout": "IPY_MODEL_a5e9290948504a31ac770fded0551f43",
            "style": "IPY_MODEL_5f5d1c010c2149e180cfb5c1e6e22529",
            "tooltip": "Click to submit the text"
          }
        },
        "a2cdea8f545d40a3aa66d69fb99199c9": {
          "model_module": "@jupyter-widgets/output",
          "model_name": "OutputModel",
          "model_module_version": "1.0.0",
          "state": {
            "_dom_classes": [],
            "_model_module": "@jupyter-widgets/output",
            "_model_module_version": "1.0.0",
            "_model_name": "OutputModel",
            "_view_count": null,
            "_view_module": "@jupyter-widgets/output",
            "_view_module_version": "1.0.0",
            "_view_name": "OutputView",
            "layout": "IPY_MODEL_2c378bdb0ac7400ab67fc2d0f092f4b5",
            "msg_id": "",
            "outputs": [
              {
                "output_type": "error",
                "ename": "ValueError",
                "evalue": "Prompt cannot be empty.",
                "traceback": [
                  "\u001b[0;31m---------------------------------------------------------------------------\u001b[0m",
                  "\u001b[0;31mValueError\u001b[0m                                Traceback (most recent call last)",
                  "\u001b[0;32m/tmp/ipython-input-2796083215.py\u001b[0m in \u001b[0;36mon_button_clicked\u001b[0;34m(b)\u001b[0m\n\u001b[1;32m     34\u001b[0m         \u001b[0moutput_area\u001b[0m\u001b[0;34m.\u001b[0m\u001b[0mclear_output\u001b[0m\u001b[0;34m(\u001b[0m\u001b[0mwait\u001b[0m\u001b[0;34m=\u001b[0m\u001b[0;32mFalse\u001b[0m\u001b[0;34m)\u001b[0m\u001b[0;34m\u001b[0m\u001b[0;34m\u001b[0m\u001b[0m\n\u001b[1;32m     35\u001b[0m         \u001b[0maccumulated_content\u001b[0m \u001b[0;34m=\u001b[0m \u001b[0;34m\"\"\u001b[0m\u001b[0;34m\u001b[0m\u001b[0;34m\u001b[0m\u001b[0m\n\u001b[0;32m---> 36\u001b[0;31m         \u001b[0;32mfor\u001b[0m \u001b[0mnew_chunk\u001b[0m \u001b[0;32min\u001b[0m \u001b[0mai\u001b[0m\u001b[0;34m.\u001b[0m\u001b[0mgenerate_text\u001b[0m\u001b[0;34m(\u001b[0m\u001b[0mprompt\u001b[0m\u001b[0;34m=\u001b[0m\u001b[0mtext_input\u001b[0m\u001b[0;34m.\u001b[0m\u001b[0mvalue\u001b[0m\u001b[0;34m,\u001b[0m \u001b[0mmodel_name\u001b[0m\u001b[0;34m=\u001b[0m\u001b[0mdropdown\u001b[0m\u001b[0;34m.\u001b[0m\u001b[0mvalue\u001b[0m\u001b[0;34m,\u001b[0m \u001b[0mstream\u001b[0m\u001b[0;34m=\u001b[0m\u001b[0;32mTrue\u001b[0m\u001b[0;34m)\u001b[0m\u001b[0;34m:\u001b[0m\u001b[0;34m\u001b[0m\u001b[0;34m\u001b[0m\u001b[0m\n\u001b[0m\u001b[1;32m     37\u001b[0m             \u001b[0;32mif\u001b[0m \u001b[0mnew_chunk\u001b[0m \u001b[0;32mis\u001b[0m \u001b[0;32mNone\u001b[0m\u001b[0;34m:\u001b[0m\u001b[0;34m\u001b[0m\u001b[0;34m\u001b[0m\u001b[0m\n\u001b[1;32m     38\u001b[0m                 \u001b[0;32mcontinue\u001b[0m\u001b[0;34m\u001b[0m\u001b[0;34m\u001b[0m\u001b[0m\n",
                  "\u001b[0;32m/usr/local/lib/python3.12/dist-packages/google/colab/ai.py\u001b[0m in \u001b[0;36mgenerate_text\u001b[0;34m(prompt, model_name, stream)\u001b[0m\n\u001b[1;32m     66\u001b[0m   \"\"\"\n\u001b[1;32m     67\u001b[0m   \u001b[0;32mif\u001b[0m \u001b[0;32mnot\u001b[0m \u001b[0mprompt\u001b[0m\u001b[0;34m:\u001b[0m\u001b[0;34m\u001b[0m\u001b[0;34m\u001b[0m\u001b[0m\n\u001b[0;32m---> 68\u001b[0;31m     \u001b[0;32mraise\u001b[0m \u001b[0mValueError\u001b[0m\u001b[0;34m(\u001b[0m\u001b[0;34m'Prompt cannot be empty.'\u001b[0m\u001b[0;34m)\u001b[0m\u001b[0;34m\u001b[0m\u001b[0;34m\u001b[0m\u001b[0m\n\u001b[0m\u001b[1;32m     69\u001b[0m \u001b[0;34m\u001b[0m\u001b[0m\n\u001b[1;32m     70\u001b[0m   \u001b[0;32mif\u001b[0m \u001b[0;32mnot\u001b[0m \u001b[0misinstance\u001b[0m\u001b[0;34m(\u001b[0m\u001b[0mprompt\u001b[0m\u001b[0;34m,\u001b[0m \u001b[0mstr\u001b[0m\u001b[0;34m)\u001b[0m\u001b[0;34m:\u001b[0m\u001b[0;34m\u001b[0m\u001b[0;34m\u001b[0m\u001b[0m\n",
                  "\u001b[0;31mValueError\u001b[0m: Prompt cannot be empty."
                ]
              }
            ]
          }
        },
        "63c71f79bc514179ab7dbcb1e6fd9a30": {
          "model_module": "@jupyter-widgets/base",
          "model_name": "LayoutModel",
          "model_module_version": "1.2.0",
          "state": {
            "_model_module": "@jupyter-widgets/base",
            "_model_module_version": "1.2.0",
            "_model_name": "LayoutModel",
            "_view_count": null,
            "_view_module": "@jupyter-widgets/base",
            "_view_module_version": "1.2.0",
            "_view_name": "LayoutView",
            "align_content": null,
            "align_items": null,
            "align_self": null,
            "border": null,
            "bottom": null,
            "display": null,
            "flex": null,
            "flex_flow": null,
            "grid_area": null,
            "grid_auto_columns": null,
            "grid_auto_flow": null,
            "grid_auto_rows": null,
            "grid_column": null,
            "grid_gap": null,
            "grid_row": null,
            "grid_template_areas": null,
            "grid_template_columns": null,
            "grid_template_rows": null,
            "height": null,
            "justify_content": null,
            "justify_items": null,
            "left": null,
            "margin": null,
            "max_height": null,
            "max_width": null,
            "min_height": null,
            "min_width": null,
            "object_fit": null,
            "object_position": null,
            "order": null,
            "overflow": null,
            "overflow_x": null,
            "overflow_y": null,
            "padding": null,
            "right": null,
            "top": null,
            "visibility": null,
            "width": null
          }
        },
        "73bfd03ef45d4851873c78ae60ff4516": {
          "model_module": "@jupyter-widgets/base",
          "model_name": "LayoutModel",
          "model_module_version": "1.2.0",
          "state": {
            "_model_module": "@jupyter-widgets/base",
            "_model_module_version": "1.2.0",
            "_model_name": "LayoutModel",
            "_view_count": null,
            "_view_module": "@jupyter-widgets/base",
            "_view_module_version": "1.2.0",
            "_view_name": "LayoutView",
            "align_content": null,
            "align_items": null,
            "align_self": null,
            "border": null,
            "bottom": null,
            "display": null,
            "flex": null,
            "flex_flow": null,
            "grid_area": null,
            "grid_auto_columns": null,
            "grid_auto_flow": null,
            "grid_auto_rows": null,
            "grid_column": null,
            "grid_gap": null,
            "grid_row": null,
            "grid_template_areas": null,
            "grid_template_columns": null,
            "grid_template_rows": null,
            "height": null,
            "justify_content": null,
            "justify_items": null,
            "left": null,
            "margin": null,
            "max_height": null,
            "max_width": null,
            "min_height": null,
            "min_width": null,
            "object_fit": null,
            "object_position": null,
            "order": null,
            "overflow": null,
            "overflow_x": null,
            "overflow_y": null,
            "padding": null,
            "right": null,
            "top": null,
            "visibility": null,
            "width": "auto"
          }
        },
        "6acabb6dd1d0406db75c3ece800eea4b": {
          "model_module": "@jupyter-widgets/controls",
          "model_name": "DescriptionStyleModel",
          "model_module_version": "1.5.0",
          "state": {
            "_model_module": "@jupyter-widgets/controls",
            "_model_module_version": "1.5.0",
            "_model_name": "DescriptionStyleModel",
            "_view_count": null,
            "_view_module": "@jupyter-widgets/base",
            "_view_module_version": "1.2.0",
            "_view_name": "StyleView",
            "description_width": ""
          }
        },
        "011582fba47c45519f681d055ad1d016": {
          "model_module": "@jupyter-widgets/base",
          "model_name": "LayoutModel",
          "model_module_version": "1.2.0",
          "state": {
            "_model_module": "@jupyter-widgets/base",
            "_model_module_version": "1.2.0",
            "_model_name": "LayoutModel",
            "_view_count": null,
            "_view_module": "@jupyter-widgets/base",
            "_view_module_version": "1.2.0",
            "_view_name": "LayoutView",
            "align_content": null,
            "align_items": null,
            "align_self": null,
            "border": null,
            "bottom": null,
            "display": null,
            "flex": null,
            "flex_flow": null,
            "grid_area": null,
            "grid_auto_columns": null,
            "grid_auto_flow": null,
            "grid_auto_rows": null,
            "grid_column": null,
            "grid_gap": null,
            "grid_row": null,
            "grid_template_areas": null,
            "grid_template_columns": null,
            "grid_template_rows": null,
            "height": "100px",
            "justify_content": null,
            "justify_items": null,
            "left": null,
            "margin": null,
            "max_height": null,
            "max_width": null,
            "min_height": null,
            "min_width": null,
            "object_fit": null,
            "object_position": null,
            "order": null,
            "overflow": null,
            "overflow_x": null,
            "overflow_y": null,
            "padding": null,
            "right": null,
            "top": null,
            "visibility": null,
            "width": "auto"
          }
        },
        "338c94f088a949b599226136de36efba": {
          "model_module": "@jupyter-widgets/controls",
          "model_name": "DescriptionStyleModel",
          "model_module_version": "1.5.0",
          "state": {
            "_model_module": "@jupyter-widgets/controls",
            "_model_module_version": "1.5.0",
            "_model_name": "DescriptionStyleModel",
            "_view_count": null,
            "_view_module": "@jupyter-widgets/base",
            "_view_module_version": "1.2.0",
            "_view_name": "StyleView",
            "description_width": ""
          }
        },
        "a5e9290948504a31ac770fded0551f43": {
          "model_module": "@jupyter-widgets/base",
          "model_name": "LayoutModel",
          "model_module_version": "1.2.0",
          "state": {
            "_model_module": "@jupyter-widgets/base",
            "_model_module_version": "1.2.0",
            "_model_name": "LayoutModel",
            "_view_count": null,
            "_view_module": "@jupyter-widgets/base",
            "_view_module_version": "1.2.0",
            "_view_name": "LayoutView",
            "align_content": null,
            "align_items": null,
            "align_self": null,
            "border": null,
            "bottom": null,
            "display": null,
            "flex": null,
            "flex_flow": null,
            "grid_area": null,
            "grid_auto_columns": null,
            "grid_auto_flow": null,
            "grid_auto_rows": null,
            "grid_column": null,
            "grid_gap": null,
            "grid_row": null,
            "grid_template_areas": null,
            "grid_template_columns": null,
            "grid_template_rows": null,
            "height": null,
            "justify_content": null,
            "justify_items": null,
            "left": null,
            "margin": null,
            "max_height": null,
            "max_width": null,
            "min_height": null,
            "min_width": null,
            "object_fit": null,
            "object_position": null,
            "order": null,
            "overflow": null,
            "overflow_x": null,
            "overflow_y": null,
            "padding": null,
            "right": null,
            "top": null,
            "visibility": null,
            "width": null
          }
        },
        "5f5d1c010c2149e180cfb5c1e6e22529": {
          "model_module": "@jupyter-widgets/controls",
          "model_name": "ButtonStyleModel",
          "model_module_version": "1.5.0",
          "state": {
            "_model_module": "@jupyter-widgets/controls",
            "_model_module_version": "1.5.0",
            "_model_name": "ButtonStyleModel",
            "_view_count": null,
            "_view_module": "@jupyter-widgets/base",
            "_view_module_version": "1.2.0",
            "_view_name": "StyleView",
            "button_color": null,
            "font_weight": ""
          }
        },
        "2c378bdb0ac7400ab67fc2d0f092f4b5": {
          "model_module": "@jupyter-widgets/base",
          "model_name": "LayoutModel",
          "model_module_version": "1.2.0",
          "state": {
            "_model_module": "@jupyter-widgets/base",
            "_model_module_version": "1.2.0",
            "_model_name": "LayoutModel",
            "_view_count": null,
            "_view_module": "@jupyter-widgets/base",
            "_view_module_version": "1.2.0",
            "_view_name": "LayoutView",
            "align_content": null,
            "align_items": null,
            "align_self": null,
            "border": null,
            "bottom": null,
            "display": null,
            "flex": null,
            "flex_flow": null,
            "grid_area": null,
            "grid_auto_columns": null,
            "grid_auto_flow": null,
            "grid_auto_rows": null,
            "grid_column": null,
            "grid_gap": null,
            "grid_row": null,
            "grid_template_areas": null,
            "grid_template_columns": null,
            "grid_template_rows": null,
            "height": null,
            "justify_content": null,
            "justify_items": null,
            "left": null,
            "margin": null,
            "max_height": "300px",
            "max_width": null,
            "min_height": null,
            "min_width": null,
            "object_fit": null,
            "object_position": null,
            "order": null,
            "overflow": null,
            "overflow_x": null,
            "overflow_y": "scroll",
            "padding": null,
            "right": null,
            "top": null,
            "visibility": null,
            "width": "auto"
          }
        }
      }
    }
  },
  "cells": [
    {
      "cell_type": "markdown",
      "metadata": {
        "id": "view-in-github",
        "colab_type": "text"
      },
      "source": [
        "<a href=\"https://colab.research.google.com/github/fhhjhhg/A2A/blob/main/instructor_large.ipynb\" target=\"_parent\"><img src=\"https://colab.research.google.com/assets/colab-badge.svg\" alt=\"Open In Colab\"/></a>"
      ]
    },
    {
      "cell_type": "markdown",
      "source": [
        "## Local Inference on GPU\n",
        "Model page: https://huggingface.co/hkunlp/instructor-large\n",
        "\n",
        "⚠️ If the generated code snippets do not work, please open an issue on either the [model repo](https://huggingface.co/hkunlp/instructor-large)\n",
        "\t\t\tand/or on [huggingface.js](https://github.com/huggingface/huggingface.js/blob/main/packages/tasks/src/model-libraries-snippets.ts) 🙏"
      ],
      "metadata": {
        "id": "hPSKWm9cYdgw"
      }
    },
    {
      "cell_type": "code",
      "source": [
        "# @title AI prompt cell\n",
        "\n",
        "import ipywidgets as widgets\n",
        "from IPython.display import display, HTML, Markdown,clear_output\n",
        "from google.colab import ai\n",
        "\n",
        "dropdown = widgets.Dropdown(\n",
        "    options=[],\n",
        "    layout={'width': 'auto'}\n",
        ")\n",
        "\n",
        "def update_model_list(new_options):\n",
        "    dropdown.options = new_options\n",
        "update_model_list(ai.list_models())\n",
        "\n",
        "text_input = widgets.Textarea(\n",
        "    placeholder='Ask me anything....',\n",
        "    layout={'width': 'auto', 'height': '100px'},\n",
        ")\n",
        "\n",
        "button = widgets.Button(\n",
        "    description='Submit Text',\n",
        "    disabled=False,\n",
        "    tooltip='Click to submit the text',\n",
        "    icon='check'\n",
        ")\n",
        "\n",
        "output_area = widgets.Output(\n",
        "     layout={'width': 'auto', 'max_height': '300px','overflow_y': 'scroll'}\n",
        ")\n",
        "\n",
        "def on_button_clicked(b):\n",
        "    with output_area:\n",
        "        output_area.clear_output(wait=False)\n",
        "        accumulated_content = \"\"\n",
        "        for new_chunk in ai.generate_text(prompt=text_input.value, model_name=dropdown.value, stream=True):\n",
        "            if new_chunk is None:\n",
        "                continue\n",
        "            accumulated_content += new_chunk\n",
        "            clear_output(wait=True)\n",
        "            display(Markdown(accumulated_content))\n",
        "\n",
        "button.on_click(on_button_clicked)\n",
        "vbox = widgets.GridBox([dropdown, text_input, button, output_area])\n",
        "\n",
        "display(HTML(\"\"\"\n",
        "<style>\n",
        ".widget-dropdown select {\n",
        "    font-size: 18px;\n",
        "    font-family: \"Arial\", sans-serif;\n",
        "}\n",
        ".widget-textarea textarea {\n",
        "    font-size: 18px;\n",
        "    font-family: \"Arial\", sans-serif;\n",
        "}\n",
        "</style>\n",
        "\"\"\"))\n",
        "display(vbox)"
      ],
      "metadata": {
        "colab": {
          "base_uri": "https://localhost:8080/",
          "height": 497,
          "referenced_widgets": [
            "e58841d67b9a4746b764785d2a62539f",
            "391b868c64a94d8991cfa7e56ec876ea",
            "bd7e8efbd94943db837a9032f777d30b",
            "54306a1e137c4d648f5432e7d74cae58",
            "a2cdea8f545d40a3aa66d69fb99199c9",
            "63c71f79bc514179ab7dbcb1e6fd9a30",
            "73bfd03ef45d4851873c78ae60ff4516",
            "6acabb6dd1d0406db75c3ece800eea4b",
            "011582fba47c45519f681d055ad1d016",
            "338c94f088a949b599226136de36efba",
            "a5e9290948504a31ac770fded0551f43",
            "5f5d1c010c2149e180cfb5c1e6e22529",
            "2c378bdb0ac7400ab67fc2d0f092f4b5"
          ]
        },
        "id": "FrIeA3cNYmQT",
        "outputId": "01e31c4b-0dc7-4809-ef8d-3c6b792d629d"
      },
      "execution_count": 1,
      "outputs": [
        {
          "output_type": "display_data",
          "data": {
            "text/plain": [
              "<IPython.core.display.HTML object>"
            ],
            "text/html": [
              "\n",
              "<style>\n",
              ".widget-dropdown select {\n",
              "    font-size: 18px;\n",
              "    font-family: \"Arial\", sans-serif;\n",
              "}\n",
              ".widget-textarea textarea {\n",
              "    font-size: 18px;\n",
              "    font-family: \"Arial\", sans-serif;\n",
              "}\n",
              "</style>\n"
            ]
          },
          "metadata": {}
        },
        {
          "output_type": "display_data",
          "data": {
            "text/plain": [
              "GridBox(children=(Dropdown(layout=Layout(width='auto'), options=('google/gemini-2.5-flash', 'google/gemini-2.5…"
            ],
            "application/vnd.jupyter.widget-view+json": {
              "version_major": 2,
              "version_minor": 0,
              "model_id": "e58841d67b9a4746b764785d2a62539f"
            }
          },
          "metadata": {}
        }
      ]
    },
    {
      "cell_type": "code",
      "metadata": {
        "colab": {
          "base_uri": "https://localhost:8080/",
          "height": 1000
        },
        "id": "3e70ba65",
        "outputId": "ccd1e38d-298b-4d41-bc99-1465e0656f40"
      },
      "source": [
        "import google.colab.ai as ai\n",
        "from IPython.display import display, Markdown, clear_output\n",
        "\n",
        "# Replace 'google/gemini-2.5-flash' with the model you want to use\n",
        "model_name = 'google/gemini-2.5-flash'\n",
        "prompt_text = \"Tell me a detailed story about a brave knight and a dragon.\"\n",
        "\n",
        "accumulated_content = \"\"\n",
        "for new_chunk in ai.generate_text(prompt=prompt_text, model_name=model_name, stream=True):\n",
        "    if new_chunk is None:\n",
        "        continue\n",
        "    accumulated_content += new_chunk\n",
        "    clear_output(wait=True)\n",
        "    display(Markdown(accumulated_content))"
      ],
      "execution_count": 3,
      "outputs": [
        {
          "output_type": "display_data",
          "data": {
            "text/plain": [
              "<IPython.core.display.Markdown object>"
            ],
            "text/markdown": "The wind, a bitter harbinger of winter, whipped Sir Kaelen's midnight hair across his scarred, weathered face. His eyes, the colour of a winter sky, scanned the valley below – the sleepy village of Oakhaven, nestled against the foothills of the Dragon's Tooth mountains. For generations, the name had been merely a folk tale, a whispered warning to children. But whispers had a way of growing into roars.\n\nIt began subtly, with livestock disappearing from distant pastures, followed by an acrid smell of ozone and sulfur on the wind. Then, the first sighting: a shadow that blotted out the midday sun, scales glinting like polished obsidian, eyes like molten gold. It was Ignis, the legendary dragon of Wyrmpeak, awakened from centuries of slumber.\n\nSir Kaelen, a knight of the King's Dawn Guard, was known for his quiet stoicism and a broadsword that had never known defeat. He was not a man of many words, but his actions spoke volumes. When the first terrified refugees stumbled into the capital of Aethelgard, babbling of burning homes and a sky-darkening terror, Kaelen was the first to volunteer.\n\n\"Ignis seeks something,\" an ancient scholar had croaked, poring over brittle scrolls. \"Legends say its lair holds a treasure beyond measure... or perhaps it *is* the treasure. But it has always had an affinity for great power, for light.\"\n\nKaelen understood. Ignis wasn't merely destructive; it was acquisitive. And what greater source of light, of power, did Aethelgard possess than the Sunstone, the glowing heart of the royal citadel, said to have been carved from a fallen star?\n\nThe journey to Wyrmpeak was a test of endurance. Kaelen climbed for days, his heavy plate armor surprisingly agile over the treacherous terrain. He navigated scree slopes, scaled sheer rock faces, and endured blizzards that sought to freeze the very marrow in his bones. His only companions were the biting wind and the unwavering conviction in his heart. He knew fear, a cold knot in his stomach, but his bravery wasn't the absence of fear; it was the resolve to act despite it.\n\nFinally, after a week of relentless ascent, he found it: a colossal cavern entrance, shrouded in perpetual mist and etched with the tell-tale scorch marks of dragon fire. The air grew heavy, thick with the smell of sulfur and something else – a deep, primal heat that radiated from within.\n\nKaelen drew his broadsword, its polished steel reflecting the dim light of his torch. The cavern opened into a vast, cathedral-like space, stalactites like frozen fangs hanging from the ceiling. And there, at the heart of the chamber, was Ignis.\n\nThe dragon was even more magnificent and terrifying than the legends described. Its body was a mountain of muscle and scale, easily dwarfing Kaelen. Its eyes, the molten gold of a forge, focused on him with chilling intensity. But it wasn't the dragon that held Kaelen's gaze initially. It was what lay coiled beneath its protective wing: three enormous, iridescent eggs, shimmering with a faint inner light. And nestled amongst them, pulsing with a vibrant, golden glow, was the Sunstone. Ignis wasn't simply stealing; it was using the stone's inherent warmth to incubate its clutch.\n\nA low growl rumbled from Ignis's chest, shaking the very foundations of the cavern. It was a sound of warning, of territorial defiance, but Kaelen also detected a hint of desperation, of maternal protection.\n\n\"I have not come to slay you, great Ignis,\" Kaelen called out, his voice echoing, yet steady. \"I have come for the Sunstone. It is the heart of my people, just as your eggs are the hope of yours.\"\n\nIgnis scoffed, a plume of smoke escaping its nostrils. \"Foolish human. You speak of hearts, yet you would strip me of my young's very lifeblood!\" Its voice, deep and resonant, was laced with ancient fury.\n\n\"I understand your need,\" Kaelen replied, taking a cautious step forward. \"But Aethelgard will wither without its light. There must be another way.\"\n\nThe dragon roared, a sound that could shatter stone. It launched itself forward, a blur of scales and talons. Kaelen moved, a blur of steel and leather. He knew he couldn't match its raw power. His only hope was speed, precision, and finding an opening.\n\nIgnis lunged, its massive jaws snapping. Kaelen rolled, the wind from its movement nearly knocking him off his feet. He dodged a swipe of its claw, the ground cracking where it struck. He met a lash of its tail, parrying with his sword, the impact jarring his entire arm. Then came the fire. A torrent of white-hot flame erupted from Ignis's maw, forcing Kaelen to take cover behind a thick pillar of rock, the heat searing even through his armor.\n\nHe saw his chance. As Ignis paused, drawing another breath for a fiery onslaught, Kaelen burst from cover. He didn't aim for the head or heart – those were too well-protected. Instead, with a desperate, precise lunge, he aimed for the membrane of its colossal wing, a vulnerable point he’d learned from ancient texts.\n\nHis broadsword bit deep, slicing through tough hide and sinew. Ignis roared, a shriek of pain and disbelief. Its massive body reeled, momentarily stunned. The wound wasn't fatal, but it was debilitating, tearing a gaping hole in its flight membrane.\n\nBefore Ignis could fully recover, Kaelen moved. He didn't approach the dragon directly, but instead circled, his gaze darting around the cavern. He noticed something the scholars hadn't mentioned: a faint shimmer in the air near the back wall, and a curious, unnatural warmth emanating from the rock itself. A geothermal vent.\n\n\"Ignis!\" Kaelen shouted, his voice strained. \"The Sunstone will be returned, but I offer you another warmth! Look!\" He pointed his sword towards the vent. \"My kingdom needs its light, but your children need not perish!\"\n\nIgnis, wounded and disoriented, followed his gaze. Its golden eyes, still full of fury, flickered with a hesitant curiosity. The geothermal vent offered a steady, natural heat, perhaps even more reliable than the Sunstone, which had to be recharged under the sun.\n\nKaelen, bleeding and exhausted, knew this was his only chance. He sheathed his sword, a gesture of peace amidst the chaos, and slowly, carefully, approached the dragon's clutch. Ignis watched him, a low growl still rumbling, but it did not attack. It seemed to understand the offer.\n\nWith a speed born of desperation, Kaelen reached for the Sunstone, gently extricating it from among the eggs. Its warmth pulsed against his hand, a beacon of hope. He looked at Ignis, whose gaze was now fixed on the geothermal vent, its powerful mind seemingly calculating the new possibilities.\n\n\"Move your clutch, Ignis,\" Kaelen urged, his voice hoarse. \"There is warmth there, without the need for conflict.\"\n\nHe turned, the Sunstone held high, and began his perilous descent. He didn't look back, not out of fear, but out of respect for the raw, wounded majesty he was leaving behind. He heard a rustling, a low whine from Ignis, but no pursuit. Perhaps, in that moment, a flicker of understanding had passed between them.\n\nThe journey back was a haze of pain and determination. When Kaelen finally stumbled into Oakhaven, the Sunstone still radiating its glorious light, the village erupted in cheers. The kingdom rejoiced. He was hailed as a hero, a dragon-slayer.\n\nBut Kaelen knew the truth. He hadn't slain Ignis. He had faced its fury, understood its plight, and offered a path to peace. He was still Sir Kaelen, the brave knight, but he was also something more: a man who had seen the complex heart of a monster and found within it a reflection of his own desire to protect what was precious. And sometimes, true bravery wasn't just in the swing of a sword, but in the wisdom to know when to sheathe it, and the courage to offer a different way."
          },
          "metadata": {}
        }
      ]
    },
    {
      "cell_type": "code",
      "source": [],
      "metadata": {
        "id": "Md9qHkthZaav"
      },
      "execution_count": null,
      "outputs": []
    },
    {
      "cell_type": "code",
      "source": [],
      "metadata": {
        "id": "vRNXMvr6ZmmC"
      },
      "execution_count": null,
      "outputs": []
    },
    {
      "cell_type": "code",
      "metadata": {
        "colab": {
          "base_uri": "https://localhost:8080/"
        },
        "id": "7ac98fab",
        "outputId": "645d67be-083b-43fb-fc2d-e5ebf570f745"
      },
      "source": [
        "import google.colab.ai as ai\n",
        "\n",
        "# Replace 'google/gemini-2.5-flash' with the model you want to use\n",
        "model_name = 'google/gemini-2.5-flash'\n",
        "prompt_text = \"Tell me a fun fact about the ocean.\"\n",
        "\n",
        "response = ai.generate_text(model_name=model_name, prompt=prompt_text)\n",
        "\n",
        "print(response)"
      ],
      "execution_count": 2,
      "outputs": [
        {
          "output_type": "stream",
          "name": "stdout",
          "text": [
            "Here's a fun one:\n",
            "\n",
            "Even though we name them the Pacific, Atlantic, Indian, Arctic, and Southern Oceans, they are all actually **one giant, interconnected body of water!** You could, in theory, travel by boat from the Atlantic Ocean to the Pacific Ocean, and then on to the Indian Ocean, and so on, without ever touching land.\n"
          ]
        }
      ]
    },
    {
      "cell_type": "markdown",
      "source": [],
      "metadata": {
        "id": "kQdaYxp1Yibc"
      }
    },
    {
      "cell_type": "code",
      "source": [
        "from sentence_transformers import SentenceTransformer\n",
        "\n",
        "model = SentenceTransformer(\"hkunlp/instructor-large\")\n",
        "\n",
        "sentences = [\n",
        "    \"That is a happy person\",\n",
        "    \"That is a happy dog\",\n",
        "    \"That is a very happy person\",\n",
        "    \"Today is a sunny day\"\n",
        "]\n",
        "embeddings = model.encode(sentences)\n",
        "\n",
        "similarities = model.similarity(embeddings, embeddings)\n",
        "print(similarities.shape)\n",
        "# [4, 4]"
      ],
      "metadata": {
        "id": "rlxv0QlIYdg5"
      },
      "execution_count": null,
      "outputs": []
    }
  ]
}